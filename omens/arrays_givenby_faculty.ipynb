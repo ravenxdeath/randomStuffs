{
 "cells": [
  {
   "attachments": {},
   "cell_type": "markdown",
   "metadata": {},
   "source": [
    "\n",
    "\n",
    "**<p style=\"text-align: center;\"> LINEAR ARRAY </p>**\n"
   ]
  },
  {
   "cell_type": "code",
   "execution_count": 1,
   "metadata": {},
   "outputs": [],
   "source": [
    "def iteration(source):\n",
    "    for i in range(len(source)):\n",
    "        print(source[i])\n",
    "def reverseIteration(source):\n",
    "    for i in range(len(source) - 1, -1, -1):\n",
    "        print(source[i])"
   ]
  },
  {
   "cell_type": "code",
   "execution_count": 2,
   "metadata": {},
   "outputs": [],
   "source": [
    "def copyArray(source):\n",
    "    newArray = [None] * len(source)\n",
    "    for i in range(len(source)):\n",
    "        newArray[i] = source[i]\n",
    "    return newArray\n"
   ]
  },
  {
   "cell_type": "code",
   "execution_count": 3,
   "metadata": {},
   "outputs": [],
   "source": [
    "def resizeArray(oldArray, newCapacity):\n",
    "    newArray = [None] * newCapacity\n",
    "    for i in range(len(oldArray)):\n",
    "        newArray[i] = oldArray[i]\n",
    "    return newArray"
   ]
  },
  {
   "cell_type": "code",
   "execution_count": 4,
   "metadata": {},
   "outputs": [],
   "source": [
    "def shiftLeft(arr):\n",
    "    for i in range(1, len(arr)):\n",
    "        arr[i-1] = arr[i]\n",
    "    arr[len(arr) - 1] = None\n",
    "    return arr"
   ]
  },
  {
   "cell_type": "code",
   "execution_count": 5,
   "metadata": {},
   "outputs": [],
   "source": [
    "\n",
    "def shiftRight(arr):\n",
    "    for i in range(len(arr) - 1, 0, -1):\n",
    "        arr[i] = arr[i - 1]\n",
    "    arr[0] = None\n",
    "    return arr"
   ]
  },
  {
   "cell_type": "code",
   "execution_count": 6,
   "metadata": {},
   "outputs": [],
   "source": [
    "def insertElement(arr, size, elem, index):\n",
    "    # Practice how to throw exception if there is no empty space\n",
    "    if size == len(arr):\n",
    "        print(\"No space left. Insertion failed\")\n",
    "    else:\n",
    "        for i in range(size, index, -1):\n",
    "            arr[i] = arr[i - 1] #Shifting right till the index\n",
    "        arr[index] = elem #Inserting element\n",
    "        return arr"
   ]
  },
  {
   "cell_type": "code",
   "execution_count": 7,
   "metadata": {},
   "outputs": [],
   "source": [
    "def removeElement(arr, index, size):\n",
    "    for i in range(index + 1, size):\n",
    "        arr[i - 1] = arr[i] #Shifting left from removing index\n",
    "    arr[size - 1] = None #Making last space empty"
   ]
  },
  {
   "cell_type": "code",
   "execution_count": 8,
   "metadata": {},
   "outputs": [],
   "source": [
    "def rotateLeft(arr):\n",
    "    temp = arr[0]\n",
    "    for i in range(1, len(arr)):\n",
    "        arr[i-1] = arr[i]\n",
    "    arr[len(arr) - 1] = temp\n",
    "    return arr\n"
   ]
  },
  {
   "cell_type": "code",
   "execution_count": 9,
   "metadata": {},
   "outputs": [],
   "source": [
    "def rotateRight(arr):\n",
    "    temp = arr[len(arr) - 1]\n",
    "    for i in range(len(arr) - 1, 0, -1):\n",
    "        arr[i] = arr[i - 1]\n",
    "    arr[0] = temp\n",
    "    return arr"
   ]
  },
  {
   "cell_type": "code",
   "execution_count": 10,
   "metadata": {},
   "outputs": [],
   "source": [
    "#  Forward Iteration\n",
    "def forwardIteration(cir, start, size):\n",
    "    k = start\n",
    "    for i in range(size):\n",
    "        print(cir[k])\n",
    "        k = (k + 1) % len(cir)\n"
   ]
  },
  {
   "cell_type": "code",
   "execution_count": 11,
   "metadata": {},
   "outputs": [],
   "source": [
    "#  Backward Iteration\n",
    "def backwardIteration(cir, start, size):\n",
    "    k = (start + size - 1) % len(cir)\n",
    "    for i in range(size):\n",
    "        print(cir[k])\n",
    "        k = k - 1\n",
    "        if k == -1:\n",
    "            k = len(cir) - 1\n"
   ]
  },
  {
   "cell_type": "code",
   "execution_count": 12,
   "metadata": {},
   "outputs": [],
   "source": [
    "# Linearizing Circular Array\n",
    "def linearizingCircularArray(cir_arr, size, start):\n",
    "    lin_arr = [None] * size # Initializing with no empty space\n",
    "    k = start\n",
    "    for i in range(size):\n",
    "        lin_arr[i] = cir_arr[k]\n",
    "        k = (k + 1) % len(cir_arr)\n",
    "    return lin_arr"
   ]
  },
  {
   "attachments": {},
   "cell_type": "markdown",
   "metadata": {},
   "source": [
    "\n",
    "**<p style=\"text-align: center;\"> CIRCULAR ARRAY </p>**\n"
   ]
  },
  {
   "cell_type": "code",
   "execution_count": null,
   "metadata": {},
   "outputs": [],
   "source": [
    "# Resizing Circular Array\n",
    "def resizingCircularArray(cir_arr, start, size, new_capacity):\n",
    "    new_arr = [None] * new_capacity\n",
    "    k = start\n",
    "    for i in range(size):\n",
    "        new_arr[i] = cir_arr[k]\n",
    "        k = (k + 1) % len(cir_arr)\n",
    "    return new_arr"
   ]
  },
  {
   "cell_type": "code",
   "execution_count": null,
   "metadata": {},
   "outputs": [],
   "source": [
    "# Insert in Circular Array\n",
    "def insert(cir_arr, start, size, elem, pos):\n",
    "    if size == len(cir_arr):\n",
    "        cir_arr = resizingCircularArray(cir_arr, start, size, 2 * size)\n",
    "    nShifts = size - pos\n",
    "    fr = (start + size - 1) % len(cir_arr)\n",
    "    to = (fr + 1) % len(cir_arr)\n",
    "    for i in range(nShifts):\n",
    "        cir_arr[to] = cir_arr[fr]\n",
    "        to = fr\n",
    "        fr = fr - 1\n",
    "        if fr == -1:\n",
    "            fr = len(cir_arr) - 1\n",
    "    idx = (start + pos) % len(cir_arr)\n",
    "    cir_arr[idx] = elem\n",
    "    size += 1"
   ]
  },
  {
   "cell_type": "code",
   "execution_count": null,
   "metadata": {},
   "outputs": [],
   "source": [
    "# Remove value from circular array by left shift\n",
    "def removeByLeftShift(cir_arr, start, size, pos):\n",
    "    nShift = size - pos - 1\n",
    "    idx = (start + pos) % len(cir_arr)\n",
    "    removed = cir_arr[idx]\n",
    "    to = idx\n",
    "    fr = (to + 1) % len(cir_arr)\n",
    "    for i in range(nShifts):\n",
    "        cir_arr[to] = cir_arr[fr]\n",
    "        to = fr\n",
    "        fr = (fr + 1) % len(cir_arr)\n",
    "    cir_arr[fr] = None\n",
    "    size -= 1\n",
    "    return removed\n"
   ]
  },
  {
   "cell_type": "code",
   "execution_count": null,
   "metadata": {},
   "outputs": [],
   "source": [
    "# Remove value from circular array by right shift\n",
    "def removeByRightShift(cir_arr, start, size, pos):\n",
    "    nShift = pos\n",
    "    idx = (start + pos) % len(cir_arr)\n",
    "    removed = cir_arr[idx]\n",
    "    to = idx\n",
    "    fr = (to - 1)\n",
    "    if fr == -1:\n",
    "        fr = len(cir_arr) - 1\n",
    "    for i in range(nShifts):\n",
    "        cir_arr[to] = cir_arr[fr]\n",
    "        to = fr\n",
    "        fr -= 1\n",
    "        if fr == -1:\n",
    "            fr = len(cir_arr) - 1\n",
    "    cir_arr[start] = None\n",
    "    start = (start + 1) % len(cir_arr)\n",
    "    size -= 1\n",
    "    return removed\n"
   ]
  },
  {
   "attachments": {},
   "cell_type": "markdown",
   "metadata": {},
   "source": [
    "\n",
    "**<p style=\"text-align: center;\"> LINKED LIST </p>**\n"
   ]
  },
  {
   "cell_type": "code",
   "execution_count": null,
   "metadata": {},
   "outputs": [],
   "source": [
    "# Node class design\n",
    "class Node:\n",
    "    def __init__(self, e, n):\n",
    "        self.element = e\n",
    "        self.next = n\n",
    "\n",
    "# 10 20 30 40 50 "
   ]
  },
  {
   "cell_type": "code",
   "execution_count": null,
   "metadata": {},
   "outputs": [],
   "source": [
    "# Creating a list\n",
    "def createList(a):\n",
    "    head = Node(a[0], None)\n",
    "    tail = head\n",
    "    for i in range(1, len(a)):\n",
    "        n = Node(a[i], None)\n",
    "        tail.next = n\n",
    "        tail = tail.next\n",
    "    return head"
   ]
  },
  {
   "cell_type": "code",
   "execution_count": null,
   "metadata": {},
   "outputs": [],
   "source": [
    "# Iteration over a linked list\n",
    "def iteration(head):\n",
    "    temp = head\n",
    "    while temp != None:\n",
    "        print(temp.element)\n",
    "        temp = temp.next"
   ]
  },
  {
   "cell_type": "code",
   "execution_count": null,
   "metadata": {},
   "outputs": [],
   "source": [
    "# Counting number of element in the list\n",
    "def count(head):\n",
    "    count = 0\n",
    "    temp = head\n",
    "    while temp != None:\n",
    "        count += 1\n",
    "        temp = temp.next\n",
    "    return count"
   ]
  },
  {
   "cell_type": "code",
   "execution_count": null,
   "metadata": {},
   "outputs": [],
   "source": [
    "#  Getting element of an specific index\n",
    "def elemAt(head, idx):\n",
    "    count = 0\n",
    "    temp = head\n",
    "    obj = None\n",
    "    while temp != None:\n",
    "        if count == idx:\n",
    "            obj = temp.element\n",
    "            break\n",
    "        temp = temp.next\n",
    "    if obj == None:\n",
    "        print(\"Invalid index\")\n",
    "    return obj\n"
   ]
  },
  {
   "cell_type": "code",
   "execution_count": null,
   "metadata": {},
   "outputs": [],
   "source": [
    "# Getting node of an specific index\n",
    "def nodeAt(head, idx):\n",
    "    count = 0\n",
    "    temp = head\n",
    "    obj = None\n",
    "    while temp != None:\n",
    "        if count == idx:\n",
    "            obj = temp\n",
    "            break\n",
    "        temp = temp.next\n",
    "    if obj == None:\n",
    "        print(\"Invalid index\")\n",
    "    return obj\n"
   ]
  },
  {
   "cell_type": "code",
   "execution_count": null,
   "metadata": {},
   "outputs": [],
   "source": [
    "# Getting index of an specific element\n",
    "def indexOf(head, elem):\n",
    "    temp = head\n",
    "    count = 0\n",
    "    obj = None\n",
    "    while temp != None:\n",
    "        if temp.element == elem:\n",
    "            obj = temp\n",
    "            break\n",
    "        count += 1\n",
    "    if obj == None:\n",
    "        print(\"Element not found\")\n",
    "    else:\n",
    "        return count\n"
   ]
  },
  {
   "attachments": {},
   "cell_type": "markdown",
   "metadata": {},
   "source": [
    "\n",
    "**<p style=\"text-align: center;\"> STACKS </p>**\n"
   ]
  },
  {
   "cell_type": "code",
   "execution_count": null,
   "metadata": {},
   "outputs": [],
   "source": [
    "class Stack:\n",
    "    def __init__(self):\n",
    "        self.stack = [None] * 20\n",
    "        self.top = 0\n",
    "        self.size = 0\n",
    "\n",
    "    def push(self, obj):\n",
    "        if self.size == len(self.stack):\n",
    "            print(\"Stack Overflow!!!\")\n",
    "        else:\n",
    "            self.stack[self.top] = obj\n",
    "            self.top += 1\n",
    "            self.size += 1\n",
    "    def pop(self):\n",
    "        if self.size == 0:\n",
    "            print(\"Stack Underflow!!!\")\n",
    "        else:\n",
    "            temp = self.stack[self.top - 1]\n",
    "            self.stack[self.top - 1] = None\n",
    "            self.top -= 1\n",
    "            self.size -= 1\n",
    "            return temp\n",
    "    def peek(self):\n",
    "        if self.size == 0:\n",
    "            print(\"Stack Underflow!!!\")\n",
    "        else:\n",
    "            return self.stack[self.top - 1]\n"
   ]
  }
 ],
 "metadata": {
  "kernelspec": {
   "display_name": "Python 3",
   "language": "python",
   "name": "python3"
  },
  "language_info": {
   "codemirror_mode": {
    "name": "ipython",
    "version": 3
   },
   "file_extension": ".py",
   "mimetype": "text/x-python",
   "name": "python",
   "nbconvert_exporter": "python",
   "pygments_lexer": "ipython3",
   "version": "3.11.0"
  },
  "orig_nbformat": 4,
  "vscode": {
   "interpreter": {
    "hash": "5238573367df39f7286bb46f9ff5f08f63a01a80960060ce41e3c79b190280fa"
   }
  }
 },
 "nbformat": 4,
 "nbformat_minor": 2
}
